{
 "cells": [
  {
   "cell_type": "code",
   "execution_count": 1,
   "id": "80f1f7d4-61b6-47e6-a4d6-9a0e74e3f942",
   "metadata": {},
   "outputs": [],
   "source": [
    "import os\n",
    "import pandas as pd\n",
    "from tqdm import tqdm\n",
    "import torch\n",
    "from torchvision import transforms\n",
    "from torch.utils.data import DataLoader, Dataset\n",
    "from torchvision.datasets.folder import pil_loader"
   ]
  },
  {
   "cell_type": "markdown",
   "id": "825edb40-8c79-40db-aa5c-10902d5ae8f2",
   "metadata": {},
   "source": [
    "Se tiene que predecir la probabilidad de anomalía a nivel de estudio. Cada estudio puede tener una o más vistas (imágenes). Ahora se necesita una canalización de datos a nivel de estudio, que devuelva todas las imágenes de un estudio para alimentar el modelo y la etiqueta respectiva del estudio."
   ]
  },
  {
   "cell_type": "markdown",
   "id": "d2832912-3268-4892-a1ae-fe3e7ad2712f",
   "metadata": {},
   "source": [
    "El código siguiente es una función que recupera datos a nivel de estudio de un conjunto de datos organizado en carpetas, donde cada carpeta representa un tipo de estudio (como positivo o negativo) y cada estudio está asociado a un paciente."
   ]
  },
  {
   "cell_type": "code",
   "execution_count": 13,
   "id": "8baa8981-7525-44d7-9e8f-7d2d74da9b62",
   "metadata": {},
   "outputs": [],
   "source": [
    "data_cat = ['train', 'valid'] # data categories"
   ]
  },
  {
   "cell_type": "code",
   "execution_count": 12,
   "id": "be3fe634-81f5-433d-935d-6f3ac4c68461",
   "metadata": {},
   "outputs": [],
   "source": [
    "def get_study_level_data(study_type):\n",
    "    \"\"\"\n",
    "    Returns a dict, with keys 'train' and 'valid' and respective values as study level dataframes, \n",
    "    these dataframes contain three columns 'Path', 'Count', 'Label'\n",
    "    Args:\n",
    "        study_type (string): one of the seven study type folder names in 'train/valid/test' dataset \n",
    "    \"\"\"\n",
    "    study_data = {}\n",
    "    study_label = {'positive': 1, 'negative': 0}\n",
    "    for phase in data_cat:\n",
    "        BASE_DIR = 'MURA-v1.1/%s/%s/' % (phase, study_type)\n",
    "        patients = list(os.walk(BASE_DIR))[0][1] # list of patient folder names\n",
    "        study_data[phase] = pd.DataFrame(columns=['Path', 'Count', 'Label'])\n",
    "        i = 0\n",
    "        for patient in tqdm(patients): # for each patient folder\n",
    "            for study in os.listdir(BASE_DIR + patient): # for each study in that patient folder\n",
    "                label = study_label[study.split('_')[1]] # get label 0 or 1\n",
    "                path = BASE_DIR + patient + '/' + study + '/' # path to this study\n",
    "                study_data[phase].loc[i] = [path, len(os.listdir(path)), label] # add new row\n",
    "                i+=1\n",
    "    return study_data"
   ]
  },
  {
   "cell_type": "markdown",
   "id": "1a990850-46f2-4901-a07d-24b1d4d60d2b",
   "metadata": {},
   "source": [
    "Este código define una clase llamada ImageDataset que implementa un conjunto de datos para el entrenamiento de un modelo. Esta clase es útil para cargar y preprocesar datos de imágenes para su uso en el entrenamiento de modelos de aprendizaje automático."
   ]
  },
  {
   "cell_type": "code",
   "execution_count": 4,
   "id": "81a2f80f-4f22-4ff8-80a8-ea466debf5fd",
   "metadata": {},
   "outputs": [],
   "source": [
    "class ImageDataset(Dataset):\n",
    "    \"\"\"training dataset.\"\"\"\n",
    "\n",
    "    def __init__(self, df, transform=None):\n",
    "        \"\"\"\n",
    "        Args:\n",
    "            df (pd.DataFrame): a pandas DataFrame with image path and labels.\n",
    "            transform (callable, optional): Optional transform to be applied\n",
    "                on a sample.\n",
    "        \"\"\"\n",
    "        self.df = df\n",
    "        self.transform = transform\n",
    "\n",
    "    def __len__(self):\n",
    "        return len(self.df)\n",
    "\n",
    "    def __getitem__(self, idx):\n",
    "        study_path = self.df.iloc[idx, 0]\n",
    "        count = self.df.iloc[idx, 1]\n",
    "        images = []\n",
    "        for i in range(count):\n",
    "            image = pil_loader(study_path + 'image%s.png' % (i+1))\n",
    "            images.append(self.transform(image))\n",
    "        images = torch.stack(images)\n",
    "        label = self.df.iloc[idx, 2]\n",
    "        sample = {'images': images, 'label': label}\n",
    "        return sample\n"
   ]
  },
  {
   "cell_type": "markdown",
   "id": "b442ceb3-4852-4a63-a964-71c112cb7421",
   "metadata": {},
   "source": [
    "Este código define una función get_dataloaders que crea y devuelve cargadores de datos (dataloaders) para entrenamiento y validación. "
   ]
  },
  {
   "cell_type": "code",
   "execution_count": 5,
   "id": "78687279-b05e-4bf4-8a16-4fb02c24038a",
   "metadata": {},
   "outputs": [],
   "source": [
    "def get_dataloaders(data, batch_size=8, study_level=False):\n",
    "    '''\n",
    "    Returns dataloader pipeline with data augmentation\n",
    "    '''\n",
    "    data_transforms = {\n",
    "        'train': transforms.Compose([\n",
    "                transforms.Resize((224, 224)),\n",
    "                transforms.RandomHorizontalFlip(),\n",
    "                transforms.RandomRotation(10),\n",
    "                transforms.ToTensor(),\n",
    "                transforms.Normalize([0.485, 0.456, 0.406], [0.229, 0.224, 0.225]) \n",
    "        ]),\n",
    "        'valid': transforms.Compose([\n",
    "            transforms.Resize((224, 224)),\n",
    "            transforms.ToTensor(),\n",
    "            transforms.Normalize([0.485, 0.456, 0.406], [0.229, 0.224, 0.225])\n",
    "        ]),\n",
    "    }\n",
    "    image_datasets = {x: ImageDataset(data[x], transform=data_transforms[x]) for x in data_cat}\n",
    "    dataloaders = {x: DataLoader(image_datasets[x], batch_size=batch_size, shuffle=True, num_workers=4) for x in data_cat}\n",
    "    return dataloaders\n",
    "\n",
    "if __name__=='main':\n",
    "    pass"
   ]
  },
  {
   "cell_type": "code",
   "execution_count": null,
   "id": "d57d6042-3cc8-48b2-8002-922d14a4363d",
   "metadata": {},
   "outputs": [],
   "source": []
  }
 ],
 "metadata": {
  "kernelspec": {
   "display_name": "Python 3 (ipykernel)",
   "language": "python",
   "name": "python3"
  },
  "language_info": {
   "codemirror_mode": {
    "name": "ipython",
    "version": 3
   },
   "file_extension": ".py",
   "mimetype": "text/x-python",
   "name": "python",
   "nbconvert_exporter": "python",
   "pygments_lexer": "ipython3",
   "version": "3.12.2"
  }
 },
 "nbformat": 4,
 "nbformat_minor": 5
}
