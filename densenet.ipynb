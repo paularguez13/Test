{
 "cells": [
  {
   "cell_type": "code",
   "execution_count": 1,
   "id": "d24bce68-590c-444c-8058-ad15c6dcf15b",
   "metadata": {},
   "outputs": [],
   "source": [
    "import torch\n",
    "import torch.nn as nn\n",
    "import torch.nn.functional as F\n",
    "import torch.utils.model_zoo as model_zoo\n",
    "from collections import OrderedDict"
   ]
  },
  {
   "cell_type": "markdown",
   "id": "99714303-3fe4-45d0-9afd-8c91a0817b1d",
   "metadata": {},
   "source": [
    "Por defecto PyTorch tiene una implementación de DenseNet, pero para reemplazar la última capa completamente conectada por una que tiene una única salida e inicializar el modelo con los pesos de un modelo preentrenado en ImageNet, se necesita modificar la implementación por defecto de DenseNet."
   ]
  },
  {
   "cell_type": "code",
   "execution_count": 2,
   "id": "355dc10a-e1ef-41c8-ba15-a558aaf17a2b",
   "metadata": {},
   "outputs": [],
   "source": [
    "__all__ = ['DenseNet', 'densenet169']"
   ]
  },
  {
   "cell_type": "code",
   "execution_count": 3,
   "id": "5be63844-0ebc-41de-9c19-1529a2854d34",
   "metadata": {},
   "outputs": [],
   "source": [
    "model_urls = {\n",
    "    'densenet169': 'https://download.pytorch.org/models/densenet169-b2777c0a.pth',\n",
    "}"
   ]
  },
  {
   "cell_type": "markdown",
   "id": "64f7515b-ad02-4d7f-9ee2-060049244a7a",
   "metadata": {},
   "source": [
    "Este es un fragmento de código que define una función llamada densenet169. Esta función crea una instancia del modelo DenseNet-169 según lo descrito en el documento \"Densely Connected Convolutional Networks\". Esta función proporciona una manera conveniente de crear una instancia del modelo DenseNet-169 y opcionalmente inicializarla con pesos pre-entrenados."
   ]
  },
  {
   "cell_type": "code",
   "execution_count": 4,
   "id": "71726f5e-0f0b-44e9-ac59-8b9138e1f7eb",
   "metadata": {},
   "outputs": [],
   "source": [
    "def densenet169(pretrained=False, **kwargs):\n",
    "    r\"\"\"Densenet-169 model from\n",
    "    `\"Densely Connected Convolutional Networks\" <https://arxiv.org/pdf/1608.06993.pdf>`_\n",
    "\n",
    "    Args:\n",
    "        pretrained (bool): If True, returns a model pre-trained on ImageNet\n",
    "    \"\"\"\n",
    "    model = DenseNet(num_init_features=64, growth_rate=32, block_config=(6, 12, 32, 32),\n",
    "                     **kwargs)\n",
    "    if pretrained:\n",
    "        model.load_state_dict(model_zoo.load_url(model_urls['densenet169']), strict=False)\n",
    "    return model"
   ]
  },
  {
   "cell_type": "markdown",
   "id": "977f4430-a49d-47ad-89cb-ca26a636035e",
   "metadata": {},
   "source": [
    "Este fragmento de código define una clase llamada _DenseLayer, que es una subclase de nn.Sequential. Esta clase representa una capa densa en la arquitectura DenseNet. Esta encapsula la estructura y las operaciones necesarias para una sola capa densa en la arquitectura DenseNet."
   ]
  },
  {
   "cell_type": "code",
   "execution_count": 5,
   "id": "9a8e8b7c-5802-4b61-b1fa-361e3de16e21",
   "metadata": {},
   "outputs": [],
   "source": [
    "class _DenseLayer(nn.Sequential):\n",
    "    def __init__(self, num_input_features, growth_rate, bn_size, drop_rate):\n",
    "        super(_DenseLayer, self).__init__()\n",
    "        self.add_module('norm1', nn.BatchNorm2d(num_input_features)),\n",
    "        self.add_module('relu1', nn.ReLU(inplace=True)),\n",
    "        self.add_module('conv1', nn.Conv2d(num_input_features, bn_size *\n",
    "                        growth_rate, kernel_size=1, stride=1, bias=False)),\n",
    "        self.add_module('norm2', nn.BatchNorm2d(bn_size * growth_rate)),\n",
    "        self.add_module('relu2', nn.ReLU(inplace=True)),\n",
    "        self.add_module('conv2', nn.Conv2d(bn_size * growth_rate, growth_rate,\n",
    "                        kernel_size=3, stride=1, padding=1, bias=False)),\n",
    "        self.drop_rate = drop_rate"
   ]
  },
  {
   "cell_type": "markdown",
   "id": "e61dae12-b246-4795-9ddb-651909e854e0",
   "metadata": {},
   "source": [
    "Este método forward calcula las nuevas características de una capa densa y las concatena con las características de entrada originales para producir la salida de la capa densa. Si se especifica una tasa de caída, se aplica dropout a las nuevas características antes de la concatenación."
   ]
  },
  {
   "cell_type": "code",
   "execution_count": 6,
   "id": "9c03ddc3-5489-40c5-8bf2-3f3a66518bd2",
   "metadata": {},
   "outputs": [],
   "source": [
    " def forward(self, x):\n",
    "        new_features = super(_DenseLayer, self).forward(x)\n",
    "        if self.drop_rate > 0:\n",
    "            new_features = F.dropout(new_features, p=self.drop_rate, training=self.training)\n",
    "        return torch.cat([x, new_features], 1)"
   ]
  },
  {
   "cell_type": "markdown",
   "id": "469ac14b-cde4-400f-bde8-04b55fcd5e54",
   "metadata": {},
   "source": [
    "_DenseBlock encapsula la lógica para crear y apilar múltiples capas densas en un bloque denso dentro de la arquitectura DenseNet. Cada capa densa dentro del bloque está conectada a todas las capas densas anteriores dentro del bloque, lo que crea conexiones densas entre las capas."
   ]
  },
  {
   "cell_type": "code",
   "execution_count": 7,
   "id": "77dceb4f-f893-4385-8e42-b71cdcfaf295",
   "metadata": {},
   "outputs": [],
   "source": [
    "class _DenseBlock(nn.Sequential):\n",
    "    def __init__(self, num_layers, num_input_features, bn_size, growth_rate, drop_rate):\n",
    "        super(_DenseBlock, self).__init__()\n",
    "        for i in range(num_layers):\n",
    "            layer = _DenseLayer(num_input_features + i * growth_rate, growth_rate, bn_size, drop_rate)\n",
    "            self.add_module('denselayer%d' % (i + 1), layer)"
   ]
  },
  {
   "cell_type": "markdown",
   "id": "877a8df8-8a4e-4bce-8028-8447ab513fb1",
   "metadata": {},
   "source": [
    "_Transition encapsula la lógica para crear y aplicar una transición entre dos bloques densos en la arquitectura DenseNet. La transición consiste en normalización, activación, convolución y reducción de tamaño."
   ]
  },
  {
   "cell_type": "code",
   "execution_count": 8,
   "id": "f53c8f99-0564-4b4e-a7bd-eb8500b56beb",
   "metadata": {},
   "outputs": [],
   "source": [
    "class _Transition(nn.Sequential):\n",
    "    def __init__(self, num_input_features, num_output_features):\n",
    "        super(_Transition, self).__init__()\n",
    "        self.add_module('norm', nn.BatchNorm2d(num_input_features))\n",
    "        self.add_module('relu', nn.ReLU(inplace=True))\n",
    "        self.add_module('conv', nn.Conv2d(num_input_features, num_output_features,\n",
    "                                          kernel_size=1, stride=1, bias=False))\n",
    "        self.add_module('pool', nn.AvgPool2d(kernel_size=2, stride=2))"
   ]
  },
  {
   "cell_type": "code",
   "execution_count": 9,
   "id": "31ee3925-7adf-480a-b209-7860b5115e49",
   "metadata": {},
   "outputs": [],
   "source": [
    "class DenseNet(nn.Module):\n",
    "    r\"\"\"Densenet-BC model class, based on\n",
    "    `\"Densely Connected Convolutional Networks\" <https://arxiv.org/pdf/1608.06993.pdf>`_\n",
    "\n",
    "    Args:\n",
    "        growth_rate (int) - how many filters to add each layer (`k` in paper)\n",
    "        block_config (list of 4 ints) - how many layers in each pooling block\n",
    "        num_init_features (int) - the number of filters to learn in the first convolution layer\n",
    "        bn_size (int) - multiplicative factor for number of bottle neck layers\n",
    "          (i.e. bn_size * k features in the bottleneck layer)\n",
    "        drop_rate (float) - dropout rate after each dense layer\n",
    "        num_classes (int) - number of classification classes\n",
    "    \"\"\""
   ]
  },
  {
   "cell_type": "code",
   "execution_count": 10,
   "id": "718e8e4f-1d60-4d41-aba9-1e9266b45722",
   "metadata": {},
   "outputs": [],
   "source": [
    "  def __init__(self, growth_rate=32, block_config=(6, 12, 24, 16),\n",
    "                 num_init_features=64, bn_size=4, drop_rate=0, num_classes=1000):\n",
    "\n",
    "        super(DenseNet, self).__init__()\n",
    "\n",
    "        # First convolution\n",
    "        self.features = nn.Sequential(OrderedDict([\n",
    "            ('conv0', nn.Conv2d(3, num_init_features, kernel_size=7, stride=2, padding=3, bias=False)),\n",
    "            ('norm0', nn.BatchNorm2d(num_init_features)),\n",
    "            ('relu0', nn.ReLU(inplace=True)),\n",
    "            ('pool0', nn.MaxPool2d(kernel_size=3, stride=2, padding=1)),\n",
    "        ]))\n",
    "\n",
    "        # Each denseblock\n",
    "        num_features = num_init_features\n",
    "        for i, num_layers in enumerate(block_config):\n",
    "            block = _DenseBlock(num_layers=num_layers, num_input_features=num_features,\n",
    "                                bn_size=bn_size, growth_rate=growth_rate, drop_rate=drop_rate)\n",
    "            self.features.add_module('denseblock%d' % (i + 1), block)\n",
    "            num_features = num_features + num_layers * growth_rate\n",
    "            if i != len(block_config) - 1:\n",
    "                trans = _Transition(num_input_features=num_features, num_output_features=num_features // 2)\n",
    "                self.features.add_module('transition%d' % (i + 1), trans)\n",
    "                num_features = num_features // 2\n",
    "\n",
    "        # Final batch norm\n",
    "        self.features.add_module('norm5', nn.BatchNorm2d(num_features))\n",
    "        \n",
    "        # Linear layer\n",
    "        # self.classifier = nn.Linear(num_features, 1000)\n",
    "        # self.fc = nn.Linear(1000, 1)\n",
    "        \n",
    "        self.fc = nn.Linear(num_features, 1)\n",
    "        \n",
    "        # Official init from torch repo.\n",
    "        for m in self.modules():\n",
    "            if isinstance(m, nn.Conv2d):\n",
    "                nn.init.kaiming_normal(m.weight.data)\n",
    "            elif isinstance(m, nn.BatchNorm2d):\n",
    "                m.weight.data.fill_(1)\n",
    "                m.bias.data.zero_()\n",
    "            elif isinstance(m, nn.Linear):\n",
    "                m.bias.data.zero_()"
   ]
  },
  {
   "cell_type": "code",
   "execution_count": 11,
   "id": "29f9d937-a25e-424d-bcf9-33e8767abb13",
   "metadata": {},
   "outputs": [],
   "source": [
    "def forward(self, x):\n",
    "        features = self.features(x)\n",
    "        out = F.relu(features, inplace=True)\n",
    "        out = F.avg_pool2d(out, kernel_size=7, stride=1).view(features.size(0), -1)\n",
    "        # out = F.relu(self.classifier(out))\n",
    "        out = F.sigmoid(self.fc(out))\n",
    "        return out"
   ]
  },
  {
   "cell_type": "code",
   "execution_count": null,
   "id": "95720815-45cf-43c6-a38f-07f9bdbe158f",
   "metadata": {},
   "outputs": [],
   "source": []
  }
 ],
 "metadata": {
  "kernelspec": {
   "display_name": "Python 3 (ipykernel)",
   "language": "python",
   "name": "python3"
  },
  "language_info": {
   "codemirror_mode": {
    "name": "ipython",
    "version": 3
   },
   "file_extension": ".py",
   "mimetype": "text/x-python",
   "name": "python",
   "nbconvert_exporter": "python",
   "pygments_lexer": "ipython3",
   "version": "3.12.2"
  }
 },
 "nbformat": 4,
 "nbformat_minor": 5
}
