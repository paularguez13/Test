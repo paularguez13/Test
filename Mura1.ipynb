{
 "cells": [
  {
   "cell_type": "code",
   "execution_count": 120,
   "id": "81beb1d4-3f85-430a-a18f-7cc6f1b67329",
   "metadata": {},
   "outputs": [],
   "source": [
    "import os\n",
    "import pandas as pd\n",
    "from tqdm import tqdm\n",
    "import os\n",
    "import pandas as pd\n",
    "from torchvision.io import read_image\n",
    "from torchvision import transforms\n",
    "from pathlib import Path"
   ]
  },
  {
   "cell_type": "code",
   "execution_count": 121,
   "id": "2587f295-92a5-454b-9fac-5ca79a696172",
   "metadata": {},
   "outputs": [],
   "source": [
    "###########################################################\n",
    "############ CARGAMOS ESTUDIO \n",
    "###########################################################"
   ]
  },
  {
   "cell_type": "code",
   "execution_count": 122,
   "id": "dd92ba0c-a480-4b28-a9a3-82a54bb479f8",
   "metadata": {},
   "outputs": [],
   "source": [
    "ROOT_DIR   = 'C:/Users/paula/Documents/Repositorio/MURA_prueba/' # directorio raíz\n",
    "study_type = 'XR_WRIST' # tipo de estudio\n",
    "\n",
    "DATA_CAT    = ['train', 'valid'] # división de datos\n",
    "study_label = {'positive': 1, 'negative': 0}"
   ]
  },
  {
   "cell_type": "code",
   "execution_count": 123,
   "id": "8431883a-05b8-4e2b-ad5a-d129d2576872",
   "metadata": {},
   "outputs": [
    {
     "name": "stdout",
     "output_type": "stream",
     "text": [
      "C:/Users/paula/Documents/Repositorio/MURA_prueba/train/XR_WRIST/ \n",
      "\n"
     ]
    },
    {
     "name": "stderr",
     "output_type": "stream",
     "text": [
      "100%|███████████████████████████████████████████████████████████████████████████████████| 3/3 [00:00<00:00, 262.74it/s]\n"
     ]
    },
    {
     "name": "stdout",
     "output_type": "stream",
     "text": [
      "C:/Users/paula/Documents/Repositorio/MURA_prueba/valid/XR_WRIST/ \n",
      "\n"
     ]
    },
    {
     "name": "stderr",
     "output_type": "stream",
     "text": [
      "100%|███████████████████████████████████████████████████████████████████████████████████| 3/3 [00:00<00:00, 405.64it/s]\n"
     ]
    }
   ],
   "source": [
    "# study_data es un diccionario con los datos de entrenamiento\n",
    "# y de validación obtenidos de la base de datos\n",
    "\n",
    "study_data = {}\n",
    "\n",
    "for phase in DATA_CAT:\n",
    "    BASE_DIR = ROOT_DIR + '%s/%s/' % (phase, study_type)\n",
    "    print(BASE_DIR, '\\n')\n",
    "    \n",
    "    #patients = list(os.walk(BASE_DIR))[0][1] # list of patient folder names\n",
    "    patients = os.listdir(BASE_DIR)\n",
    "    study_data[phase] = pd.DataFrame(columns=['Path', 'Count', 'Label'])\n",
    "    \n",
    "    i = 0\n",
    "    for patient in tqdm(patients): # recorremos carpetas de pacientes\n",
    "        for study in os.listdir(BASE_DIR + patient): # recorremos estudios en cada carpeta de paciente\n",
    "            label = study_label[study.split('_')[1]] # etiqueta 0 ó 1\n",
    "            path = BASE_DIR + patient + '/' + study + '/' # ruta del estudio\n",
    "            study_data[phase].loc[i] = [path, len(os.listdir(path)), label] # añadimos fila\n",
    "            i+=1\n",
    " "
   ]
  },
  {
   "cell_type": "code",
   "execution_count": 124,
   "id": "3c4f0553-5232-4403-a8b8-809a59d7615b",
   "metadata": {},
   "outputs": [
    {
     "data": {
      "text/html": [
       "<div>\n",
       "<style scoped>\n",
       "    .dataframe tbody tr th:only-of-type {\n",
       "        vertical-align: middle;\n",
       "    }\n",
       "\n",
       "    .dataframe tbody tr th {\n",
       "        vertical-align: top;\n",
       "    }\n",
       "\n",
       "    .dataframe thead th {\n",
       "        text-align: right;\n",
       "    }\n",
       "</style>\n",
       "<table border=\"1\" class=\"dataframe\">\n",
       "  <thead>\n",
       "    <tr style=\"text-align: right;\">\n",
       "      <th></th>\n",
       "      <th>Path</th>\n",
       "      <th>Count</th>\n",
       "      <th>Label</th>\n",
       "    </tr>\n",
       "  </thead>\n",
       "  <tbody>\n",
       "    <tr>\n",
       "      <th>0</th>\n",
       "      <td>C:/Users/paula/Documents/Repositorio/MURA_prue...</td>\n",
       "      <td>3</td>\n",
       "      <td>1</td>\n",
       "    </tr>\n",
       "    <tr>\n",
       "      <th>1</th>\n",
       "      <td>C:/Users/paula/Documents/Repositorio/MURA_prue...</td>\n",
       "      <td>4</td>\n",
       "      <td>0</td>\n",
       "    </tr>\n",
       "    <tr>\n",
       "      <th>2</th>\n",
       "      <td>C:/Users/paula/Documents/Repositorio/MURA_prue...</td>\n",
       "      <td>3</td>\n",
       "      <td>1</td>\n",
       "    </tr>\n",
       "    <tr>\n",
       "      <th>3</th>\n",
       "      <td>C:/Users/paula/Documents/Repositorio/MURA_prue...</td>\n",
       "      <td>3</td>\n",
       "      <td>1</td>\n",
       "    </tr>\n",
       "  </tbody>\n",
       "</table>\n",
       "</div>"
      ],
      "text/plain": [
       "                                                Path  Count  Label\n",
       "0  C:/Users/paula/Documents/Repositorio/MURA_prue...      3      1\n",
       "1  C:/Users/paula/Documents/Repositorio/MURA_prue...      4      0\n",
       "2  C:/Users/paula/Documents/Repositorio/MURA_prue...      3      1\n",
       "3  C:/Users/paula/Documents/Repositorio/MURA_prue...      3      1"
      ]
     },
     "execution_count": 124,
     "metadata": {},
     "output_type": "execute_result"
    }
   ],
   "source": [
    "study_data['train'].head()"
   ]
  },
  {
   "cell_type": "code",
   "execution_count": 125,
   "id": "cea17a6b-5f6b-41b8-be5b-478e6cc1c895",
   "metadata": {},
   "outputs": [
    {
     "data": {
      "text/html": [
       "<div>\n",
       "<style scoped>\n",
       "    .dataframe tbody tr th:only-of-type {\n",
       "        vertical-align: middle;\n",
       "    }\n",
       "\n",
       "    .dataframe tbody tr th {\n",
       "        vertical-align: top;\n",
       "    }\n",
       "\n",
       "    .dataframe thead th {\n",
       "        text-align: right;\n",
       "    }\n",
       "</style>\n",
       "<table border=\"1\" class=\"dataframe\">\n",
       "  <thead>\n",
       "    <tr style=\"text-align: right;\">\n",
       "      <th></th>\n",
       "      <th>Path</th>\n",
       "      <th>Count</th>\n",
       "      <th>Label</th>\n",
       "    </tr>\n",
       "  </thead>\n",
       "  <tbody>\n",
       "    <tr>\n",
       "      <th>0</th>\n",
       "      <td>C:/Users/paula/Documents/Repositorio/MURA_prue...</td>\n",
       "      <td>4</td>\n",
       "      <td>1</td>\n",
       "    </tr>\n",
       "    <tr>\n",
       "      <th>1</th>\n",
       "      <td>C:/Users/paula/Documents/Repositorio/MURA_prue...</td>\n",
       "      <td>2</td>\n",
       "      <td>1</td>\n",
       "    </tr>\n",
       "    <tr>\n",
       "      <th>2</th>\n",
       "      <td>C:/Users/paula/Documents/Repositorio/MURA_prue...</td>\n",
       "      <td>3</td>\n",
       "      <td>1</td>\n",
       "    </tr>\n",
       "    <tr>\n",
       "      <th>3</th>\n",
       "      <td>C:/Users/paula/Documents/Repositorio/MURA_prue...</td>\n",
       "      <td>3</td>\n",
       "      <td>1</td>\n",
       "    </tr>\n",
       "    <tr>\n",
       "      <th>4</th>\n",
       "      <td>C:/Users/paula/Documents/Repositorio/MURA_prue...</td>\n",
       "      <td>1</td>\n",
       "      <td>1</td>\n",
       "    </tr>\n",
       "  </tbody>\n",
       "</table>\n",
       "</div>"
      ],
      "text/plain": [
       "                                                Path  Count  Label\n",
       "0  C:/Users/paula/Documents/Repositorio/MURA_prue...      4      1\n",
       "1  C:/Users/paula/Documents/Repositorio/MURA_prue...      2      1\n",
       "2  C:/Users/paula/Documents/Repositorio/MURA_prue...      3      1\n",
       "3  C:/Users/paula/Documents/Repositorio/MURA_prue...      3      1\n",
       "4  C:/Users/paula/Documents/Repositorio/MURA_prue...      1      1"
      ]
     },
     "execution_count": 125,
     "metadata": {},
     "output_type": "execute_result"
    }
   ],
   "source": [
    "study_data['valid'].head()"
   ]
  },
  {
   "cell_type": "code",
   "execution_count": 126,
   "id": "fd814fe2-8c8e-4529-bdc4-b8cfcb592d93",
   "metadata": {},
   "outputs": [],
   "source": [
    "###########################################################\n",
    "######## CREAMOS DATA LOADER Y CLASE DATASET ASOCIADA\n",
    "###########################################################"
   ]
  },
  {
   "cell_type": "code",
   "execution_count": 127,
   "id": "ee822e9e-8a3d-4ce7-bfa3-5539b59465d6",
   "metadata": {},
   "outputs": [],
   "source": [
    "import torch\n",
    "from torch.utils.data import Dataset\n",
    "from torchvision import datasets\n",
    "from torchvision.transforms import ToTensor\n",
    "import matplotlib.pyplot as plt\n",
    "from torch.utils.data import DataLoader\n",
    "import time\n",
    "import copy\n",
    "from PIL import Image"
   ]
  },
  {
   "cell_type": "code",
   "execution_count": 128,
   "id": "b11986f4-81b3-404d-a3e4-05a1e0a6dba3",
   "metadata": {},
   "outputs": [
    {
     "data": {
      "text/plain": [
       "'file_paths = Path(\"C:/Users/paula/Documents/Repositorio/MURA_prueba/\")\\ntrain_file_paths = Path(\"C:/Users/paula/Documents/Repositorio/MURA_prueba/train/\")\\nvalid_file_paths = Path(\"C:/Users/paula/Documents/Repositorio/MURA_prueba/valid/\")\\n'"
      ]
     },
     "execution_count": 128,
     "metadata": {},
     "output_type": "execute_result"
    }
   ],
   "source": [
    "\"\"\"file_paths = Path(\"C:/Users/paula/Documents/Repositorio/MURA_prueba/\")\n",
    "train_file_paths = Path(\"C:/Users/paula/Documents/Repositorio/MURA_prueba/train/\")\n",
    "valid_file_paths = Path(\"C:/Users/paula/Documents/Repositorio/MURA_prueba/valid/\")\n",
    "\"\"\""
   ]
  },
  {
   "cell_type": "code",
   "execution_count": null,
   "id": "de9f1fea-ec3a-4b35-8322-9bff5db432e7",
   "metadata": {},
   "outputs": [],
   "source": [
    "\n",
    "\n"
   ]
  },
  {
   "cell_type": "code",
   "execution_count": 129,
   "id": "8d18fb60-b85f-4e55-bd97-934585a0edc3",
   "metadata": {},
   "outputs": [],
   "source": [
    "labels = [1, 0]"
   ]
  },
  {
   "cell_type": "code",
   "execution_count": 130,
   "id": "646c6ec3-8ed6-4e33-98a9-403aac908bc6",
   "metadata": {},
   "outputs": [],
   "source": [
    "transform = {\n",
    "    'train': transforms.Compose([\n",
    "            transforms.Resize((224, 224)),\n",
    "            transforms.RandomHorizontalFlip(),\n",
    "            transforms.RandomRotation(10),\n",
    "            transforms.ToTensor(),\n",
    "            transforms.Normalize([0.485, 0.456, 0.406], [0.229, 0.224, 0.225]) \n",
    "        ]),\n",
    "    'valid': transforms.Compose([\n",
    "            transforms.Resize((224, 224)),\n",
    "            transforms.ToTensor(),\n",
    "            transforms.Normalize([0.485, 0.456, 0.406], [0.229, 0.224, 0.225])\n",
    "        ]),\n",
    "    }\n"
   ]
  },
  {
   "cell_type": "code",
   "execution_count": 131,
   "id": "3cf16f06-af9b-4103-bbe8-106823128ac4",
   "metadata": {},
   "outputs": [],
   "source": [
    "\n",
    "class ImageDataset(Dataset):\n",
    "    def __init__(self, file_paths, labels, transform=None):\n",
    "        self.file_paths = file_paths  # Asegúrate de que file_paths sea una lista\n",
    "        self.labels = labels\n",
    "        self.transform = transform\n",
    "\n",
    "    def __getitem__(self, index):\n",
    "        image = Image.open(self.file_paths[index])  # Convertir a str antes de abrir la imagen\n",
    "        label = self.labels[index]\n",
    "        if self.transform:\n",
    "            image = self.transform(image)\n",
    "        return image, label\n",
    "\n",
    "    def __len__(self):\n",
    "        return len(self.file_paths)\n",
    "\n",
    "\n"
   ]
  },
  {
   "cell_type": "code",
   "execution_count": 132,
   "id": "1e9ad779-84a4-440f-851a-0076462294fc",
   "metadata": {},
   "outputs": [],
   "source": [
    "#dataset = ImageDataset(file_paths =file_paths, labels=labels, transform=transform)\n",
    "train_dataset = ImageDataset(file_paths =path, labels=label, transform=transform['train'])\n",
    "valid_dataset = ImageDataset(file_paths =path, labels=label, transform=transform['valid'])\n",
    "\n",
    "# Create a dataloader with batch size and other options\n",
    "#dataloader = DataLoader(dataset, batch_size=32, shuffle=True, num_workers=4)\n",
    "# Crear DataLoader para el conjunto de entrenamiento\n",
    "train_dataloader = DataLoader(train_dataset, batch_size=32, shuffle=True, num_workers=0)\n",
    "\n",
    "# Crear DataLoader para el conjunto de validación\n",
    "valid_dataloader = DataLoader(valid_dataset, batch_size=32, shuffle=False, num_workers=0)\n"
   ]
  },
  {
   "cell_type": "code",
   "execution_count": 134,
   "id": "ddee651e-99e6-4882-bd8d-06a29794968e",
   "metadata": {},
   "outputs": [],
   "source": [
    "num_batches = len(train_dataloader)\n",
    "num_batches = len(valid_dataloader)"
   ]
  },
  {
   "cell_type": "code",
   "execution_count": 135,
   "id": "f820fe6d-929a-47f9-b796-03cf39d3a905",
   "metadata": {},
   "outputs": [],
   "source": [
    "dataset_sizes = {x: len(study_data[x]) for x in DATA_CAT}"
   ]
  },
  {
   "cell_type": "code",
   "execution_count": 136,
   "id": "a5e18d89-8763-46f5-9de1-8b4c28771dda",
   "metadata": {},
   "outputs": [
    {
     "name": "stdout",
     "output_type": "stream",
     "text": [
      "{'train': 4, 'valid': 5}\n"
     ]
    }
   ],
   "source": [
    "print(dataset_sizes)"
   ]
  },
  {
   "cell_type": "code",
   "execution_count": 137,
   "id": "da9421e9-f8f3-4579-b2ff-23d75fd34ec4",
   "metadata": {},
   "outputs": [],
   "source": [
    "from torch.autograd import Variable"
   ]
  },
  {
   "cell_type": "code",
   "execution_count": 138,
   "id": "447bd7ec-1be9-4930-ae88-d9a2ac1cf435",
   "metadata": {},
   "outputs": [],
   "source": [
    "def get_count(df, cat):\n",
    "    '''\n",
    "    Returns number of images in a study type dataframe which are of abnormal or normal\n",
    "    Args:\n",
    "    df -- dataframe\n",
    "    cat -- category, \"positive\" for abnormal and \"negative\" for normal\n",
    "    '''\n",
    "    return df[df['Path'].str.contains(cat)]['Count'].sum()"
   ]
  },
  {
   "cell_type": "code",
   "execution_count": 139,
   "id": "d83647ca-8987-419c-a14f-f7576ee968dc",
   "metadata": {},
   "outputs": [],
   "source": [
    "# tai = total abnormal images, tni = total normal images\n",
    "tai = {x: get_count(study_data[x], 'positive') for x in DATA_CAT}\n",
    "tni = {x: get_count(study_data[x], 'negative') for x in DATA_CAT}"
   ]
  },
  {
   "cell_type": "code",
   "execution_count": 140,
   "id": "946e7624-8453-4aa9-acc1-235b3a9e43f0",
   "metadata": {},
   "outputs": [
    {
     "name": "stdout",
     "output_type": "stream",
     "text": [
      "tai: {'train': 9, 'valid': 13}\n",
      "tni: {'train': 4, 'valid': 0} \n",
      "\n"
     ]
    }
   ],
   "source": [
    "print('tai:', tai)\n",
    "print('tni:', tni, '\\n')"
   ]
  },
  {
   "cell_type": "code",
   "execution_count": 141,
   "id": "aa688f77-aff5-4ccc-8f6a-2726d82ac0cb",
   "metadata": {},
   "outputs": [],
   "source": [
    "import torch\n",
    "from torch.autograd import Variable"
   ]
  },
  {
   "cell_type": "code",
   "execution_count": 142,
   "id": "d40138f3-adca-4de8-ac33-dcfcafbd43f7",
   "metadata": {},
   "outputs": [],
   "source": [
    "def n_p(x):\n",
    "    '''convert numpy float to Variable tensor float'''    \n",
    "    return Variable(torch.FloatTensor([x]), requires_grad=False)"
   ]
  },
  {
   "cell_type": "code",
   "execution_count": 143,
   "id": "023b644c-6216-4de0-8743-43b1983a8bab",
   "metadata": {},
   "outputs": [],
   "source": [
    "Wt1 = {x: n_p(tni[x] / (tni[x] + tai[x])) for x in DATA_CAT}\n",
    "Wt0 = {x: n_p(tai[x] / (tni[x] + tai[x])) for x in DATA_CAT}"
   ]
  },
  {
   "cell_type": "code",
   "execution_count": 144,
   "id": "13d29792-0a3d-4436-954d-6e3502523536",
   "metadata": {},
   "outputs": [
    {
     "name": "stdout",
     "output_type": "stream",
     "text": [
      "Wt0 train: tensor([0.6923])\n",
      "Wt0 valid: tensor([1.])\n",
      "Wt1 train: tensor([0.3077])\n",
      "Wt1 valid: tensor([0.])\n"
     ]
    }
   ],
   "source": [
    "print('Wt0 train:', Wt0['train'])\n",
    "print('Wt0 valid:', Wt0['valid'])\n",
    "print('Wt1 train:', Wt1['train'])\n",
    "print('Wt1 valid:', Wt1['valid'])"
   ]
  },
  {
   "cell_type": "code",
   "execution_count": 145,
   "id": "383910ab-bcd6-428c-9352-17b5a4514efc",
   "metadata": {},
   "outputs": [],
   "source": [
    "#############################################################################################\n",
    "############### ENTRENAMIENTO DEL MODELO\n",
    "#############################################################################################"
   ]
  },
  {
   "cell_type": "code",
   "execution_count": 146,
   "id": "e16a8c69-ed56-4046-9899-576b41eca3fe",
   "metadata": {},
   "outputs": [],
   "source": [
    "# Definición de pérdida \n",
    "class Loss(torch.nn.modules.Module):\n",
    "    def __init__(self, Wt1, Wt0):\n",
    "        super(Loss, self).__init__()\n",
    "        self.Wt1 = Wt1\n",
    "        self.Wt0 = Wt0\n",
    "        \n",
    "    def forward(self, inputs, targets, phase):\n",
    "        loss = - (self.Wt1[phase] * targets * inputs.log() + self.Wt0[phase] * (1 - targets) * (1 - inputs).log())\n",
    "        return loss"
   ]
  },
  {
   "cell_type": "code",
   "execution_count": 147,
   "id": "8ef7de5d-b4da-46c8-9cbc-e04fda2fcf92",
   "metadata": {},
   "outputs": [],
   "source": [
    "from densenet import densenet169"
   ]
  },
  {
   "cell_type": "code",
   "execution_count": 148,
   "id": "135fc7a2-8943-4645-ad45-1114c0a3507d",
   "metadata": {},
   "outputs": [
    {
     "name": "stderr",
     "output_type": "stream",
     "text": [
      "C:\\Users\\paula\\Documents\\Repositorio\\Test\\densenet.py:115: UserWarning: nn.init.kaiming_normal is now deprecated in favor of nn.init.kaiming_normal_.\n",
      "  nn.init.kaiming_normal(m.weight.data)\n"
     ]
    }
   ],
   "source": [
    "model = densenet169(pretrained=True)"
   ]
  },
  {
   "cell_type": "code",
   "execution_count": 149,
   "id": "c4651729-a640-46f3-a97b-655ecb3a5f4c",
   "metadata": {},
   "outputs": [
    {
     "name": "stderr",
     "output_type": "stream",
     "text": [
      "C:\\Users\\paula\\miniforge3\\envs\\tfg\\Lib\\site-packages\\torch\\optim\\lr_scheduler.py:28: UserWarning: The verbose parameter is deprecated. Please use get_last_lr() to access the learning rate.\n",
      "  warnings.warn(\"The verbose parameter is deprecated. Please use get_last_lr() \"\n"
     ]
    }
   ],
   "source": [
    "criterion = Loss(Wt1, Wt0)\n",
    "optimizer = torch.optim.Adam(model.parameters(), lr=0.0001)\n",
    "scheduler = torch.optim.lr_scheduler.ReduceLROnPlateau(optimizer, mode='min', patience=1, verbose=True)"
   ]
  },
  {
   "cell_type": "code",
   "execution_count": 150,
   "id": "1913aa21-b68b-40ac-ad0e-0f5280feeb31",
   "metadata": {},
   "outputs": [],
   "source": [
    "num_epochs = 5"
   ]
  },
  {
   "cell_type": "code",
   "execution_count": 151,
   "id": "3d1966cd-383a-4a70-8896-bbd17d63b0a0",
   "metadata": {},
   "outputs": [
    {
     "name": "stdout",
     "output_type": "stream",
     "text": [
      "Train batches: 3\n",
      "Valid batches: 3\n"
     ]
    }
   ],
   "source": [
    "since = time.time()\n",
    "best_model_wts = copy.deepcopy(model.state_dict())\n",
    "best_acc = 0.0\n",
    "costs = {x:[] for x in DATA_CAT} # for storing costs per epoch\n",
    "accs = {x:[] for x in DATA_CAT} # for storing accuracies per epoch\n",
    "#print('Train batches:', len(dataloader['train']))\n",
    "#print('Valid batches:', len(dataloader['valid']), '\\n')\n",
    "print('Train batches:', num_batches)\n",
    "print('Valid batches:', num_batches)"
   ]
  },
  {
   "cell_type": "code",
   "execution_count": 105,
   "id": "2cec5c10-e3f3-4ad4-b708-fc31066a018e",
   "metadata": {},
   "outputs": [
    {
     "name": "stdout",
     "output_type": "stream",
     "text": [
      "Epoch 1/5\n",
      "----------\n"
     ]
    },
    {
     "ename": "TypeError",
     "evalue": "'DataLoader' object is not subscriptable",
     "output_type": "error",
     "traceback": [
      "\u001b[1;31m---------------------------------------------------------------------------\u001b[0m",
      "\u001b[1;31mTypeError\u001b[0m                                 Traceback (most recent call last)",
      "Cell \u001b[1;32mIn[105], line 15\u001b[0m\n\u001b[0;32m     12\u001b[0m running_corrects \u001b[38;5;241m=\u001b[39m \u001b[38;5;241m0\u001b[39m\n\u001b[0;32m     14\u001b[0m \u001b[38;5;66;03m# Iterate over data.\u001b[39;00m\n\u001b[1;32m---> 15\u001b[0m \u001b[38;5;28;01mfor\u001b[39;00m i, data \u001b[38;5;129;01min\u001b[39;00m \u001b[38;5;28menumerate\u001b[39m(\u001b[43mdataloader\u001b[49m\u001b[43m[\u001b[49m\u001b[43mphase\u001b[49m\u001b[43m]\u001b[49m):\n\u001b[0;32m     16\u001b[0m \n\u001b[0;32m     17\u001b[0m     \n\u001b[0;32m     18\u001b[0m      \u001b[38;5;66;03m# get the inputs\u001b[39;00m\n\u001b[0;32m     19\u001b[0m     \u001b[38;5;28mprint\u001b[39m(i, end\u001b[38;5;241m=\u001b[39m\u001b[38;5;124m'\u001b[39m\u001b[38;5;130;01m\\r\u001b[39;00m\u001b[38;5;124m'\u001b[39m)\n\u001b[0;32m     20\u001b[0m     inputs, labels \u001b[38;5;241m=\u001b[39m data \n",
      "\u001b[1;31mTypeError\u001b[0m: 'DataLoader' object is not subscriptable"
     ]
    }
   ],
   "source": [
    "for epoch in range(num_epochs):\n",
    "    #confusion_matrix = {x: meter.ConfusionMeter(2, normalized=True) \n",
    "    #                    for x in DATA_CAT}\n",
    "        \n",
    "    print('Epoch {}/{}'.format(epoch+1, num_epochs))\n",
    "    print('-' * 10)\n",
    "\n",
    "    # Each epoch has a training and validation phase\n",
    "    for phase in DATA_CAT:\n",
    "        model.train(phase=='train')\n",
    "        running_loss = 0.0\n",
    "        running_corrects = 0\n",
    "           \n",
    "        # Iterate over data.\n",
    "        for i, data in enumerate(dataloader):\n",
    "        \n",
    "            \n",
    "             # get the inputs\n",
    "            print(i, end='\\r')\n",
    "            inputs, labels = data \n",
    "            inputs = inputs.to(device)  # Mueve las entradas al dispositivo (GPU o CPU)\n",
    "            labels = labels.to(device)\n",
    "            #inputs = data['images'][0]\n",
    "            #labels = data['label'].type(torch.FloatTensor)\n",
    "            # wrap them in Variable\n",
    "           # inputs = Variable(inputs)\n",
    "            #labels = Variable(labels)\n",
    "            # zero the parameter gradients\n",
    "            optimizer.zero_grad()\n",
    "            # forward\n",
    "            outputs = model(inputs)\n",
    "            outputs = torch.mean(outputs, dim=1)\n",
    "            loss = criterion(outputs, labels)\n",
    "            running_loss += loss.item()\n",
    "            # backward + optimize only if in training phase\n",
    "           # if phase == 'train':\n",
    "                loss.backward()\n",
    "                optimizer.step()\n",
    "            # statistics\n",
    "            preds = (outputs.data > 0.5).type(torch.FloatTensor)\n",
    "            running_corrects += torch.sum(preds == labels.data)\n",
    "            #confusion_matrix[phase].add(preds, labels.data)\n",
    "            \n",
    "        epoch_loss = running_loss / len(dataloader.dataset)\n",
    "        epoch_acc = running_corrects.double() / len(dataloader.dataset)\n",
    "        \n",
    "        #epoch_loss = running_loss / dataset_sizes[phase]\n",
    "        #epoch_acc = running_corrects / dataset_sizes[phase]\n",
    "        costs[phase].append(epoch_loss)\n",
    "        accs[phase].append(epoch_acc)\n",
    "        print('{} Loss: {:.4f} Acc: {:.4f}'.format(\n",
    "            phase, epoch_loss, epoch_acc))\n",
    "            \n",
    "            #print('Confusion Meter:\\n', confusion_matrix[phase].value())\n",
    "            \n",
    "        # deep copy the model\n",
    "        if phase == 'valid':\n",
    "            scheduler.step(epoch_loss)\n",
    "            if epoch_acc > best_acc:\n",
    "                best_acc = epoch_acc\n",
    "                best_model_wts = copy.deepcopy(model.state_dict())\n",
    "        \n",
    "    time_elapsed = time.time() - since\n",
    "    print('Time elapsed: {:.0f}m {:.0f}s'.format(\n",
    "            time_elapsed // 60, time_elapsed % 60))\n",
    "    print()"
   ]
  },
  {
   "cell_type": "code",
   "execution_count": null,
   "id": "b3b10b3e-8e91-47a2-94aa-461c258f6701",
   "metadata": {},
   "outputs": [],
   "source": []
  },
  {
   "cell_type": "code",
   "execution_count": null,
   "id": "1613efd4-c06d-48ec-b154-8671ce5fb8db",
   "metadata": {},
   "outputs": [],
   "source": []
  }
 ],
 "metadata": {
  "kernelspec": {
   "display_name": "Python 3 (ipykernel)",
   "language": "python",
   "name": "python3"
  },
  "language_info": {
   "codemirror_mode": {
    "name": "ipython",
    "version": 3
   },
   "file_extension": ".py",
   "mimetype": "text/x-python",
   "name": "python",
   "nbconvert_exporter": "python",
   "pygments_lexer": "ipython3",
   "version": "3.12.2"
  }
 },
 "nbformat": 4,
 "nbformat_minor": 5
}
